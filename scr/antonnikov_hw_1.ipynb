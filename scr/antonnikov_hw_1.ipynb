{
 "cells": [
  {
   "cell_type": "code",
   "execution_count": 29,
   "id": "5629015a-842d-4c63-a0ec-7346f131f96e",
   "metadata": {},
   "outputs": [],
   "source": [
    "def calculate(f):\n",
    "    av = !grep \"^>\" -c $f;\n",
    "    av = int(av[0]);\n",
    "    total_len = !grep -v \"^>\" $f | tr -d '\\n' | wc -c;\n",
    "    total_len = int(total_len[0]);\n",
    "    arr = !grep '^>' $f;\n",
    "    nums = [];\n",
    "    for one in arr:\n",
    "        it = one.find(\"len\");\n",
    "        st = \"\";\n",
    "        for i in range(it + 3, len(one)):\n",
    "            if one[i].isdigit():\n",
    "                st += one[i];\n",
    "            else:\n",
    "                break;\n",
    "        nums.append(int(st));\n",
    "    nums.sort();\n",
    "    longest = nums[-1];\n",
    "    summ = 0;\n",
    "    for e in nums:\n",
    "        summ += e;\n",
    "        if summ >= total_len / 2:\n",
    "            N50 = e;\n",
    "            break;\n",
    "    print(f\"Total number: {av}\")\n",
    "    print(f\"Total length: {total_len}\")\n",
    "    print(f\"The longest: {longest}\")\n",
    "    print(f\"N50: {N50}\")"
   ]
  },
  {
   "cell_type": "code",
   "execution_count": 30,
   "id": "0df2bfbd-16bd-455e-8469-a47061fe76bd",
   "metadata": {},
   "outputs": [],
   "source": [
    "def gaps(file):\n",
    "    num = !grep -Ec 'N+' $file;\n",
    "    total = !grep -Eo 'N+' $file | tr -cd 'N' | wc -c;\n",
    "    print(f\"Number = {num[0]}\")\n",
    "    print(f\"Total len= {total[0]}\")"
   ]
  },
  {
   "cell_type": "code",
   "execution_count": 31,
   "id": "8184cbef-4602-4c09-8829-bd80d4b1847b",
   "metadata": {},
   "outputs": [
    {
     "name": "stdout",
     "output_type": "stream",
     "text": [
      "Total number: 70\n",
      "Total length: 3873050\n",
      "The longest: 3830939\n",
      "N50: 3830939\n"
     ]
    }
   ],
   "source": [
    "calculate(\"scaffold_gaps.fasta\")"
   ]
  },
  {
   "cell_type": "code",
   "execution_count": 32,
   "id": "e9eb2015-9904-45d8-8fa8-5148499499c7",
   "metadata": {},
   "outputs": [
    {
     "name": "stdout",
     "output_type": "stream",
     "text": [
      "Total number: 604\n",
      "Total length: 3923803\n",
      "The longest: 179307\n",
      "N50: 53978\n"
     ]
    }
   ],
   "source": [
    "calculate(\"contigs.fasta\")"
   ]
  },
  {
   "cell_type": "code",
   "execution_count": 33,
   "id": "ce1981d7-ecf3-43bb-a809-6252af878621",
   "metadata": {},
   "outputs": [
    {
     "name": "stdout",
     "output_type": "stream",
     "text": [
      "количество = 0\n",
      "общая длина =        0\n"
     ]
    }
   ],
   "source": [
    "gaps(\"longest.fasta\")"
   ]
  },
  {
   "cell_type": "code",
   "execution_count": 33,
   "id": "b94c4ef5-07c4-47bf-bd84-9180b38e189d",
   "metadata": {},
   "outputs": [],
   "source": []
  },
  {
   "cell_type": "code",
   "execution_count": null,
   "id": "021a4b1d-e658-4de5-b43a-9ebe8c4c5906",
   "metadata": {},
   "outputs": [],
   "source": []
  },
  {
   "cell_type": "code",
   "execution_count": null,
   "id": "2ccab196-8936-4ae8-adc8-9e5f8b6eb693",
   "metadata": {},
   "outputs": [],
   "source": []
  }
 ],
 "metadata": {
  "kernelspec": {
   "display_name": "Python 3",
   "language": "python",
   "name": "python3"
  },
  "language_info": {
   "codemirror_mode": {
    "name": "ipython",
    "version": 3
   },
   "file_extension": ".py",
   "mimetype": "text/x-python",
   "name": "python",
   "nbconvert_exporter": "python",
   "pygments_lexer": "ipython3",
   "version": "3.9.0"
  }
 },
 "nbformat": 4,
 "nbformat_minor": 5
}
